{
 "cells": [
  {
   "cell_type": "markdown",
   "metadata": {},
   "source": [
    "## Проект. Авиарейсы без потерь.\n",
    "Суть проекта - из базы данных построеной на Postgres SQL содержащей информацию о авиаперевозках по России выделить лишь те данные, анализ которых сможет показать самые убыточные рейсы из аэропорта Анапа (AAQ) в зимний перод 2017 года. \n",
    "В задании проекта представлен шаблон запроса, который фильтрует данные по следующим критериям:\n",
    "- аэропорт - Анапа\n",
    "- период - январь 2017, февраль 2017, декабрь 2017\n",
    "- статус рейса - \"не отменен\"\n",
    "\n",
    "Полагаясь на здравый смысл, в своем запросе я использовал временной период: декабрь 2016, январь 2017, февраль 2017, т. к. счтитаю неприемлимым разбивать зимний сезон."
   ]
  },
  {
   "cell_type": "code",
   "execution_count": 2,
   "metadata": {},
   "outputs": [],
   "source": [
    "import pandas as pd\n",
    "import numpy as np\n",
    "import matplotlib.pyplot as plt\n",
    "import seaborn as sns\n",
    "sns.set()"
   ]
  },
  {
   "cell_type": "code",
   "execution_count": 3,
   "metadata": {},
   "outputs": [],
   "source": [
    "pd.set_option('display.max_rows', 50) # показывать больше строк\n",
    "pd.set_option('display.max_columns', 50) # показывать больше колонок\n",
    "\n",
    "avia = pd.read_csv('query_result_2021-07-14T17_00_22.396237Z.csv',\n",
    "                  parse_dates=['actual_departure', 'actual_arrival'])"
   ]
  },
  {
   "cell_type": "code",
   "execution_count": 4,
   "metadata": {},
   "outputs": [
    {
     "name": "stdout",
     "output_type": "stream",
     "text": [
      "(193, 15)\n"
     ]
    }
   ],
   "source": [
    "print(avia.shape)"
   ]
  },
  {
   "cell_type": "markdown",
   "metadata": {},
   "source": [
    "Для анализа убыточности авиаресов мною был сформирован DataSet, который несет в себе следующую информацию:\n",
    "\n",
    "flight_id - индидуальный идентификатор рейса;\n",
    "\n",
    "actual_departure - реальное время вылета;\n",
    "\n",
    "actual_arrival - реальное время прилета;\n",
    "\n",
    "departure_airport - аэропорт вылета;\n",
    "\n",
    "departure_airport - аэропорт прилета;\n",
    "\n",
    "trevel_time - реальное время перелета;\n",
    "\n",
    "model - модель самолета осуществлявшего авиаперевозку;\n",
    "\n",
    "count_of_seats - общее колличество мест в самолете данной модели;\n",
    "\n",
    "count_bc - общее количество мест бизнес-класса в самолете данной модели;\n",
    "\n",
    "revenue_bc - прибыль полученную авиаперевозчиком от реализации мест бизнес-класса в данном перелете;\n",
    "\n",
    "count_ec - общее количество мест эконом-класса в самолете данной модели;\n",
    "\n",
    "revenue_ec - прибыль полученную авиаперевозчиком от реализации мест эконом-класса в данном перелете;\n",
    "\n",
    "total_amount - общую прибыль полученную авиаперевозчиком в данном перелете;\n",
    "\n",
    "unprofitable_place - количество не реализованных мест в данном перелете;\n",
    "\n",
    "count_of_seats.1 - данный столбец выведен ошибочно"
   ]
  },
  {
   "cell_type": "markdown",
   "metadata": {},
   "source": [
    "# Очистка данных"
   ]
  },
  {
   "cell_type": "code",
   "execution_count": 5,
   "metadata": {},
   "outputs": [],
   "source": [
    "avia.drop(['departure_airport','count_of_seats.1'], axis=1, inplace=True) # удаление ошибочно сформированного столбца"
   ]
  },
  {
   "cell_type": "markdown",
   "metadata": {},
   "source": [
    "В случае отсутсвия веричины 'total_amount' у какого-либо рейса посчитать прибыльность рейса становится невозможным"
   ]
  },
  {
   "cell_type": "code",
   "execution_count": 6,
   "metadata": {},
   "outputs": [
    {
     "data": {
      "text/plain": [
       "flight_id              0\n",
       "actual_departure       0\n",
       "actual_arrival         0\n",
       "arrival_airport        0\n",
       "trevel_time            0\n",
       "model                  0\n",
       "count_of_seats         0\n",
       "count_bc              13\n",
       "revenue_bc            13\n",
       "count_ec              13\n",
       "revenue_ec            13\n",
       "total_amount          13\n",
       "unprofitable_place    13\n",
       "dtype: int64"
      ]
     },
     "execution_count": 6,
     "metadata": {},
     "output_type": "execute_result"
    }
   ],
   "source": [
    "avia.isnull().sum()"
   ]
  },
  {
   "cell_type": "code",
   "execution_count": 38,
   "metadata": {},
   "outputs": [],
   "source": [
    "avia.dropna(inplace=True)"
   ]
  },
  {
   "cell_type": "markdown",
   "metadata": {},
   "source": [
    "# Создаем новые признаки"
   ]
  },
  {
   "cell_type": "markdown",
   "metadata": {},
   "source": [
    "Для вычисления рентабельности рейсов необходимо создать новый признак \"avg_fuel_consumption\" - средний расход топлива модели саолета."
   ]
  },
  {
   "cell_type": "code",
   "execution_count": 8,
   "metadata": {},
   "outputs": [],
   "source": [
    "def create1(x):\n",
    "    if x == 'Sukhoi Superjet-100':\n",
    "        return 1864 # расход топлива Sukhoi Superjet-100, кг/ч\n",
    "    else:\n",
    "        return 2960 # расход топлива Boeing 737-300, кг/ч \n",
    "\n",
    "avia['avg_fuel_consumption'] = avia['model'].apply(create1)"
   ]
  },
  {
   "cell_type": "markdown",
   "metadata": {},
   "source": [
    "Для вычисления реального расхода топлива на каждом рейсе вводим признак \"real_fuel_consumption\"\n",
    "\n",
    "Формула: Средний разход топлива * Время перелета"
   ]
  },
  {
   "cell_type": "code",
   "execution_count": 9,
   "metadata": {},
   "outputs": [],
   "source": [
    "avia['real_fuel_consumption'] = round(avia['avg_fuel_consumption'] / 60 * avia['trevel_time'])"
   ]
  },
  {
   "cell_type": "markdown",
   "metadata": {},
   "source": [
    "Для более точного вычисисления прибыльности авиа рейсов необходи опираться на стоимость авиационного керасина исходя из месяца в котором был запрален самолет, т.к. стоимость авиационного керасина составляла:\n",
    "\n",
    "декабрь: 38867 рублей за тонну\n",
    "\n",
    "январь: 41435 рублей за тонну\n",
    "\n",
    "февраль: 39553 рублей за тонну"
   ]
  },
  {
   "cell_type": "code",
   "execution_count": 10,
   "metadata": {},
   "outputs": [],
   "source": [
    "avia['month'] = avia['actual_departure'].dt.month"
   ]
  },
  {
   "cell_type": "code",
   "execution_count": 11,
   "metadata": {},
   "outputs": [],
   "source": [
    "avia['day_of_week'] = avia['actual_departure'].dt.weekday"
   ]
  },
  {
   "cell_type": "code",
   "execution_count": 12,
   "metadata": {},
   "outputs": [],
   "source": [
    "def creat2(x):\n",
    "    if x == 12:\n",
    "        return 38867\n",
    "    elif x == 1:\n",
    "        return 41435\n",
    "    elif x == 2:\n",
    "        return 39553\n",
    "        \n",
    "avia['fuel_coast'] = avia['month'].apply(creat2)\n",
    "avia['final_fuel_costs'] = avia['real_fuel_consumption'] / 1000 * avia['fuel_coast']"
   ]
  },
  {
   "cell_type": "markdown",
   "metadata": {},
   "source": [
    "Для окончательного вычисления прибыльности авиа рейса необходимо воспользоваться формулой:\n",
    "\n",
    "Суммарная стоимость приобретенных билетов - Стоимость топлива затраченного за перелет\n",
    "\n",
    "Стоимость затраченного топлива = Стоимость топлива * Реальный расход"
   ]
  },
  {
   "cell_type": "code",
   "execution_count": 13,
   "metadata": {},
   "outputs": [
    {
     "data": {
      "text/plain": [
       "3      1625241.297\n",
       "65     1617545.631\n",
       "31     1609888.832\n",
       "18     1609193.464\n",
       "1      1605345.631\n",
       "          ...     \n",
       "154     484908.829\n",
       "107     469030.425\n",
       "191     452208.829\n",
       "180     408108.829\n",
       "128     404830.425\n",
       "Name: profitability, Length: 180, dtype: float64"
      ]
     },
     "execution_count": 13,
     "metadata": {},
     "output_type": "execute_result"
    }
   ],
   "source": [
    "avia['profitability'] = avia['total_amount'] - avia['final_fuel_costs']\n",
    "avia.dropna(inplace=True)\n",
    "avia['profitability'].sort_values(ascending=False)"
   ]
  },
  {
   "cell_type": "markdown",
   "metadata": {},
   "source": [
    "# Анализ "
   ]
  },
  {
   "cell_type": "markdown",
   "metadata": {},
   "source": [
    "Суммарный доход по каждому из направлений"
   ]
  },
  {
   "cell_type": "code",
   "execution_count": 14,
   "metadata": {},
   "outputs": [
    {
     "data": {
      "text/plain": [
       "arrival_airport\n",
       "EGO    5.293733e+07\n",
       "SVO    1.233922e+08\n",
       "Name: profitability, dtype: float64"
      ]
     },
     "execution_count": 14,
     "metadata": {},
     "output_type": "execute_result"
    }
   ],
   "source": [
    "avia.groupby('arrival_airport')['profitability'].sum()"
   ]
  },
  {
   "cell_type": "code",
   "execution_count": null,
   "metadata": {},
   "outputs": [],
   "source": [
    "Средний доход по каждому из направлений"
   ]
  },
  {
   "cell_type": "code",
   "execution_count": 15,
   "metadata": {},
   "outputs": [
    {
     "data": {
      "text/plain": [
       "arrival_airport\n",
       "EGO    5.881925e+05\n",
       "SVO    1.371024e+06\n",
       "Name: profitability, dtype: float64"
      ]
     },
     "execution_count": 15,
     "metadata": {},
     "output_type": "execute_result"
    }
   ],
   "source": [
    "avia.groupby('arrival_airport')['profitability'].mean()"
   ]
  },
  {
   "cell_type": "code",
   "execution_count": 17,
   "metadata": {},
   "outputs": [],
   "source": [
    "sorted_avia = avia.sort_values(by='profitability', ascending=True, ignore_index=True)"
   ]
  },
  {
   "cell_type": "markdown",
   "metadata": {},
   "source": [
    "Ввиду того, что общее количество перелетов за указаный период равно 180 рейсам, для оценки возьмем DataSet состоящий из \"первых\" 18 рейсов ОТСОРТИРОВАННЫХ по возрастанию величины 'profitability', что составит 10% самых малоприбыльных рейсов. \n",
    "# Самые малоприбыльные рейсы"
   ]
  },
  {
   "cell_type": "code",
   "execution_count": 22,
   "metadata": {
    "scrolled": false
   },
   "outputs": [
    {
     "data": {
      "text/html": [
       "<div>\n",
       "<style scoped>\n",
       "    .dataframe tbody tr th:only-of-type {\n",
       "        vertical-align: middle;\n",
       "    }\n",
       "\n",
       "    .dataframe tbody tr th {\n",
       "        vertical-align: top;\n",
       "    }\n",
       "\n",
       "    .dataframe thead th {\n",
       "        text-align: right;\n",
       "    }\n",
       "</style>\n",
       "<table border=\"1\" class=\"dataframe\">\n",
       "  <thead>\n",
       "    <tr style=\"text-align: right;\">\n",
       "      <th></th>\n",
       "      <th>flight_id</th>\n",
       "      <th>actual_departure</th>\n",
       "      <th>actual_arrival</th>\n",
       "      <th>arrival_airport</th>\n",
       "      <th>trevel_time</th>\n",
       "      <th>model</th>\n",
       "      <th>count_of_seats</th>\n",
       "      <th>count_bc</th>\n",
       "      <th>revenue_bc</th>\n",
       "      <th>count_ec</th>\n",
       "      <th>revenue_ec</th>\n",
       "      <th>total_amount</th>\n",
       "      <th>unprofitable_place</th>\n",
       "      <th>avg_fuel_consumption</th>\n",
       "      <th>real_fuel_consumption</th>\n",
       "      <th>month</th>\n",
       "      <th>day_of_week</th>\n",
       "      <th>fuel_coast</th>\n",
       "      <th>final_fuel_costs</th>\n",
       "      <th>profitability</th>\n",
       "    </tr>\n",
       "  </thead>\n",
       "  <tbody>\n",
       "    <tr>\n",
       "      <th>0</th>\n",
       "      <td>136642</td>\n",
       "      <td>2017-01-30 09:28:00+00:00</td>\n",
       "      <td>2017-01-30 10:17:00+00:00</td>\n",
       "      <td>EGO</td>\n",
       "      <td>98.0</td>\n",
       "      <td>Sukhoi Superjet-100</td>\n",
       "      <td>97</td>\n",
       "      <td>10.0</td>\n",
       "      <td>189000.0</td>\n",
       "      <td>54.0</td>\n",
       "      <td>342000.0</td>\n",
       "      <td>531000.0</td>\n",
       "      <td>33.0</td>\n",
       "      <td>1864</td>\n",
       "      <td>3045.0</td>\n",
       "      <td>1</td>\n",
       "      <td>0</td>\n",
       "      <td>41435</td>\n",
       "      <td>126169.575</td>\n",
       "      <td>404830.425</td>\n",
       "    </tr>\n",
       "    <tr>\n",
       "      <th>1</th>\n",
       "      <td>136807</td>\n",
       "      <td>2017-02-23 09:28:00+00:00</td>\n",
       "      <td>2017-02-23 10:18:00+00:00</td>\n",
       "      <td>EGO</td>\n",
       "      <td>100.0</td>\n",
       "      <td>Sukhoi Superjet-100</td>\n",
       "      <td>97</td>\n",
       "      <td>8.0</td>\n",
       "      <td>151200.0</td>\n",
       "      <td>60.0</td>\n",
       "      <td>379800.0</td>\n",
       "      <td>531000.0</td>\n",
       "      <td>29.0</td>\n",
       "      <td>1864</td>\n",
       "      <td>3107.0</td>\n",
       "      <td>2</td>\n",
       "      <td>3</td>\n",
       "      <td>39553</td>\n",
       "      <td>122891.171</td>\n",
       "      <td>408108.829</td>\n",
       "    </tr>\n",
       "    <tr>\n",
       "      <th>2</th>\n",
       "      <td>136844</td>\n",
       "      <td>2017-02-28 09:26:00+00:00</td>\n",
       "      <td>2017-02-28 10:16:00+00:00</td>\n",
       "      <td>EGO</td>\n",
       "      <td>100.0</td>\n",
       "      <td>Sukhoi Superjet-100</td>\n",
       "      <td>97</td>\n",
       "      <td>6.0</td>\n",
       "      <td>113400.0</td>\n",
       "      <td>73.0</td>\n",
       "      <td>461700.0</td>\n",
       "      <td>575100.0</td>\n",
       "      <td>18.0</td>\n",
       "      <td>1864</td>\n",
       "      <td>3107.0</td>\n",
       "      <td>2</td>\n",
       "      <td>1</td>\n",
       "      <td>39553</td>\n",
       "      <td>122891.171</td>\n",
       "      <td>452208.829</td>\n",
       "    </tr>\n",
       "    <tr>\n",
       "      <th>3</th>\n",
       "      <td>136887</td>\n",
       "      <td>2017-01-20 09:30:00+00:00</td>\n",
       "      <td>2017-01-20 10:19:00+00:00</td>\n",
       "      <td>EGO</td>\n",
       "      <td>98.0</td>\n",
       "      <td>Sukhoi Superjet-100</td>\n",
       "      <td>97</td>\n",
       "      <td>8.0</td>\n",
       "      <td>151200.0</td>\n",
       "      <td>70.0</td>\n",
       "      <td>444000.0</td>\n",
       "      <td>595200.0</td>\n",
       "      <td>19.0</td>\n",
       "      <td>1864</td>\n",
       "      <td>3045.0</td>\n",
       "      <td>1</td>\n",
       "      <td>4</td>\n",
       "      <td>41435</td>\n",
       "      <td>126169.575</td>\n",
       "      <td>469030.425</td>\n",
       "    </tr>\n",
       "    <tr>\n",
       "      <th>4</th>\n",
       "      <td>136922</td>\n",
       "      <td>2017-02-11 09:27:00+00:00</td>\n",
       "      <td>2017-02-11 10:17:00+00:00</td>\n",
       "      <td>EGO</td>\n",
       "      <td>100.0</td>\n",
       "      <td>Sukhoi Superjet-100</td>\n",
       "      <td>97</td>\n",
       "      <td>10.0</td>\n",
       "      <td>189000.0</td>\n",
       "      <td>66.0</td>\n",
       "      <td>418800.0</td>\n",
       "      <td>607800.0</td>\n",
       "      <td>21.0</td>\n",
       "      <td>1864</td>\n",
       "      <td>3107.0</td>\n",
       "      <td>2</td>\n",
       "      <td>5</td>\n",
       "      <td>39553</td>\n",
       "      <td>122891.171</td>\n",
       "      <td>484908.829</td>\n",
       "    </tr>\n",
       "    <tr>\n",
       "      <th>5</th>\n",
       "      <td>136620</td>\n",
       "      <td>2017-02-17 09:30:00+00:00</td>\n",
       "      <td>2017-02-17 10:19:00+00:00</td>\n",
       "      <td>EGO</td>\n",
       "      <td>98.0</td>\n",
       "      <td>Sukhoi Superjet-100</td>\n",
       "      <td>97</td>\n",
       "      <td>9.0</td>\n",
       "      <td>170100.0</td>\n",
       "      <td>70.0</td>\n",
       "      <td>443400.0</td>\n",
       "      <td>613500.0</td>\n",
       "      <td>18.0</td>\n",
       "      <td>1864</td>\n",
       "      <td>3045.0</td>\n",
       "      <td>2</td>\n",
       "      <td>4</td>\n",
       "      <td>39553</td>\n",
       "      <td>120438.885</td>\n",
       "      <td>493061.115</td>\n",
       "    </tr>\n",
       "    <tr>\n",
       "      <th>6</th>\n",
       "      <td>136823</td>\n",
       "      <td>2017-02-05 09:27:00+00:00</td>\n",
       "      <td>2017-02-05 10:18:00+00:00</td>\n",
       "      <td>EGO</td>\n",
       "      <td>102.0</td>\n",
       "      <td>Sukhoi Superjet-100</td>\n",
       "      <td>97</td>\n",
       "      <td>10.0</td>\n",
       "      <td>189000.0</td>\n",
       "      <td>68.0</td>\n",
       "      <td>431400.0</td>\n",
       "      <td>620400.0</td>\n",
       "      <td>19.0</td>\n",
       "      <td>1864</td>\n",
       "      <td>3169.0</td>\n",
       "      <td>2</td>\n",
       "      <td>6</td>\n",
       "      <td>39553</td>\n",
       "      <td>125343.457</td>\n",
       "      <td>495056.543</td>\n",
       "    </tr>\n",
       "    <tr>\n",
       "      <th>7</th>\n",
       "      <td>136937</td>\n",
       "      <td>2017-01-03 09:29:00+00:00</td>\n",
       "      <td>2017-01-03 10:19:00+00:00</td>\n",
       "      <td>EGO</td>\n",
       "      <td>100.0</td>\n",
       "      <td>Sukhoi Superjet-100</td>\n",
       "      <td>97</td>\n",
       "      <td>9.0</td>\n",
       "      <td>170100.0</td>\n",
       "      <td>72.0</td>\n",
       "      <td>456000.0</td>\n",
       "      <td>626100.0</td>\n",
       "      <td>16.0</td>\n",
       "      <td>1864</td>\n",
       "      <td>3107.0</td>\n",
       "      <td>1</td>\n",
       "      <td>1</td>\n",
       "      <td>41435</td>\n",
       "      <td>128738.545</td>\n",
       "      <td>497361.455</td>\n",
       "    </tr>\n",
       "    <tr>\n",
       "      <th>8</th>\n",
       "      <td>136645</td>\n",
       "      <td>2017-01-05 09:29:00+00:00</td>\n",
       "      <td>2017-01-05 10:20:00+00:00</td>\n",
       "      <td>EGO</td>\n",
       "      <td>102.0</td>\n",
       "      <td>Sukhoi Superjet-100</td>\n",
       "      <td>97</td>\n",
       "      <td>9.0</td>\n",
       "      <td>170100.0</td>\n",
       "      <td>73.0</td>\n",
       "      <td>462900.0</td>\n",
       "      <td>633000.0</td>\n",
       "      <td>15.0</td>\n",
       "      <td>1864</td>\n",
       "      <td>3169.0</td>\n",
       "      <td>1</td>\n",
       "      <td>3</td>\n",
       "      <td>41435</td>\n",
       "      <td>131307.515</td>\n",
       "      <td>501692.485</td>\n",
       "    </tr>\n",
       "    <tr>\n",
       "      <th>9</th>\n",
       "      <td>136678</td>\n",
       "      <td>2017-01-28 09:27:00+00:00</td>\n",
       "      <td>2017-01-28 10:17:00+00:00</td>\n",
       "      <td>EGO</td>\n",
       "      <td>100.0</td>\n",
       "      <td>Sukhoi Superjet-100</td>\n",
       "      <td>97</td>\n",
       "      <td>10.0</td>\n",
       "      <td>189000.0</td>\n",
       "      <td>70.0</td>\n",
       "      <td>442200.0</td>\n",
       "      <td>631200.0</td>\n",
       "      <td>17.0</td>\n",
       "      <td>1864</td>\n",
       "      <td>3107.0</td>\n",
       "      <td>1</td>\n",
       "      <td>5</td>\n",
       "      <td>41435</td>\n",
       "      <td>128738.545</td>\n",
       "      <td>502461.455</td>\n",
       "    </tr>\n",
       "    <tr>\n",
       "      <th>10</th>\n",
       "      <td>136888</td>\n",
       "      <td>2017-02-14 09:29:00+00:00</td>\n",
       "      <td>2017-02-14 10:19:00+00:00</td>\n",
       "      <td>EGO</td>\n",
       "      <td>100.0</td>\n",
       "      <td>Sukhoi Superjet-100</td>\n",
       "      <td>97</td>\n",
       "      <td>10.0</td>\n",
       "      <td>189000.0</td>\n",
       "      <td>69.0</td>\n",
       "      <td>437100.0</td>\n",
       "      <td>626100.0</td>\n",
       "      <td>18.0</td>\n",
       "      <td>1864</td>\n",
       "      <td>3107.0</td>\n",
       "      <td>2</td>\n",
       "      <td>1</td>\n",
       "      <td>39553</td>\n",
       "      <td>122891.171</td>\n",
       "      <td>503208.829</td>\n",
       "    </tr>\n",
       "    <tr>\n",
       "      <th>11</th>\n",
       "      <td>136936</td>\n",
       "      <td>2017-01-02 09:28:00+00:00</td>\n",
       "      <td>2017-01-02 10:18:00+00:00</td>\n",
       "      <td>EGO</td>\n",
       "      <td>100.0</td>\n",
       "      <td>Sukhoi Superjet-100</td>\n",
       "      <td>97</td>\n",
       "      <td>9.0</td>\n",
       "      <td>170100.0</td>\n",
       "      <td>73.0</td>\n",
       "      <td>462300.0</td>\n",
       "      <td>632400.0</td>\n",
       "      <td>15.0</td>\n",
       "      <td>1864</td>\n",
       "      <td>3107.0</td>\n",
       "      <td>1</td>\n",
       "      <td>0</td>\n",
       "      <td>41435</td>\n",
       "      <td>128738.545</td>\n",
       "      <td>503661.455</td>\n",
       "    </tr>\n",
       "    <tr>\n",
       "      <th>12</th>\n",
       "      <td>136609</td>\n",
       "      <td>2017-01-08 09:28:00+00:00</td>\n",
       "      <td>2017-01-08 10:18:00+00:00</td>\n",
       "      <td>EGO</td>\n",
       "      <td>100.0</td>\n",
       "      <td>Sukhoi Superjet-100</td>\n",
       "      <td>97</td>\n",
       "      <td>10.0</td>\n",
       "      <td>189000.0</td>\n",
       "      <td>71.0</td>\n",
       "      <td>450300.0</td>\n",
       "      <td>639300.0</td>\n",
       "      <td>16.0</td>\n",
       "      <td>1864</td>\n",
       "      <td>3107.0</td>\n",
       "      <td>1</td>\n",
       "      <td>6</td>\n",
       "      <td>41435</td>\n",
       "      <td>128738.545</td>\n",
       "      <td>510561.455</td>\n",
       "    </tr>\n",
       "    <tr>\n",
       "      <th>13</th>\n",
       "      <td>136929</td>\n",
       "      <td>2016-12-31 09:25:00+00:00</td>\n",
       "      <td>2016-12-31 10:15:00+00:00</td>\n",
       "      <td>EGO</td>\n",
       "      <td>100.0</td>\n",
       "      <td>Sukhoi Superjet-100</td>\n",
       "      <td>97</td>\n",
       "      <td>9.0</td>\n",
       "      <td>170100.0</td>\n",
       "      <td>73.0</td>\n",
       "      <td>461700.0</td>\n",
       "      <td>631800.0</td>\n",
       "      <td>15.0</td>\n",
       "      <td>1864</td>\n",
       "      <td>3107.0</td>\n",
       "      <td>12</td>\n",
       "      <td>5</td>\n",
       "      <td>38867</td>\n",
       "      <td>120759.769</td>\n",
       "      <td>511040.231</td>\n",
       "    </tr>\n",
       "    <tr>\n",
       "      <th>14</th>\n",
       "      <td>136843</td>\n",
       "      <td>2016-12-04 09:30:00+00:00</td>\n",
       "      <td>2016-12-04 10:20:00+00:00</td>\n",
       "      <td>EGO</td>\n",
       "      <td>100.0</td>\n",
       "      <td>Sukhoi Superjet-100</td>\n",
       "      <td>97</td>\n",
       "      <td>11.0</td>\n",
       "      <td>207900.0</td>\n",
       "      <td>67.0</td>\n",
       "      <td>424500.0</td>\n",
       "      <td>632400.0</td>\n",
       "      <td>19.0</td>\n",
       "      <td>1864</td>\n",
       "      <td>3107.0</td>\n",
       "      <td>12</td>\n",
       "      <td>6</td>\n",
       "      <td>38867</td>\n",
       "      <td>120759.769</td>\n",
       "      <td>511640.231</td>\n",
       "    </tr>\n",
       "    <tr>\n",
       "      <th>15</th>\n",
       "      <td>136767</td>\n",
       "      <td>2017-01-23 09:27:00+00:00</td>\n",
       "      <td>2017-01-23 10:18:00+00:00</td>\n",
       "      <td>EGO</td>\n",
       "      <td>102.0</td>\n",
       "      <td>Sukhoi Superjet-100</td>\n",
       "      <td>97</td>\n",
       "      <td>10.0</td>\n",
       "      <td>189000.0</td>\n",
       "      <td>73.0</td>\n",
       "      <td>462300.0</td>\n",
       "      <td>651300.0</td>\n",
       "      <td>14.0</td>\n",
       "      <td>1864</td>\n",
       "      <td>3169.0</td>\n",
       "      <td>1</td>\n",
       "      <td>0</td>\n",
       "      <td>41435</td>\n",
       "      <td>131307.515</td>\n",
       "      <td>519992.485</td>\n",
       "    </tr>\n",
       "    <tr>\n",
       "      <th>16</th>\n",
       "      <td>136800</td>\n",
       "      <td>2016-12-09 09:27:00+00:00</td>\n",
       "      <td>2016-12-09 10:18:00+00:00</td>\n",
       "      <td>EGO</td>\n",
       "      <td>102.0</td>\n",
       "      <td>Sukhoi Superjet-100</td>\n",
       "      <td>97</td>\n",
       "      <td>10.0</td>\n",
       "      <td>189000.0</td>\n",
       "      <td>72.0</td>\n",
       "      <td>456000.0</td>\n",
       "      <td>645000.0</td>\n",
       "      <td>15.0</td>\n",
       "      <td>1864</td>\n",
       "      <td>3169.0</td>\n",
       "      <td>12</td>\n",
       "      <td>4</td>\n",
       "      <td>38867</td>\n",
       "      <td>123169.523</td>\n",
       "      <td>521830.477</td>\n",
       "    </tr>\n",
       "    <tr>\n",
       "      <th>17</th>\n",
       "      <td>136771</td>\n",
       "      <td>2016-12-17 09:26:00+00:00</td>\n",
       "      <td>2016-12-17 10:15:00+00:00</td>\n",
       "      <td>EGO</td>\n",
       "      <td>98.0</td>\n",
       "      <td>Sukhoi Superjet-100</td>\n",
       "      <td>97</td>\n",
       "      <td>11.0</td>\n",
       "      <td>207900.0</td>\n",
       "      <td>71.0</td>\n",
       "      <td>449100.0</td>\n",
       "      <td>657000.0</td>\n",
       "      <td>15.0</td>\n",
       "      <td>1864</td>\n",
       "      <td>3045.0</td>\n",
       "      <td>12</td>\n",
       "      <td>5</td>\n",
       "      <td>38867</td>\n",
       "      <td>118350.015</td>\n",
       "      <td>538649.985</td>\n",
       "    </tr>\n",
       "  </tbody>\n",
       "</table>\n",
       "</div>"
      ],
      "text/plain": [
       "    flight_id          actual_departure            actual_arrival  \\\n",
       "0      136642 2017-01-30 09:28:00+00:00 2017-01-30 10:17:00+00:00   \n",
       "1      136807 2017-02-23 09:28:00+00:00 2017-02-23 10:18:00+00:00   \n",
       "2      136844 2017-02-28 09:26:00+00:00 2017-02-28 10:16:00+00:00   \n",
       "3      136887 2017-01-20 09:30:00+00:00 2017-01-20 10:19:00+00:00   \n",
       "4      136922 2017-02-11 09:27:00+00:00 2017-02-11 10:17:00+00:00   \n",
       "5      136620 2017-02-17 09:30:00+00:00 2017-02-17 10:19:00+00:00   \n",
       "6      136823 2017-02-05 09:27:00+00:00 2017-02-05 10:18:00+00:00   \n",
       "7      136937 2017-01-03 09:29:00+00:00 2017-01-03 10:19:00+00:00   \n",
       "8      136645 2017-01-05 09:29:00+00:00 2017-01-05 10:20:00+00:00   \n",
       "9      136678 2017-01-28 09:27:00+00:00 2017-01-28 10:17:00+00:00   \n",
       "10     136888 2017-02-14 09:29:00+00:00 2017-02-14 10:19:00+00:00   \n",
       "11     136936 2017-01-02 09:28:00+00:00 2017-01-02 10:18:00+00:00   \n",
       "12     136609 2017-01-08 09:28:00+00:00 2017-01-08 10:18:00+00:00   \n",
       "13     136929 2016-12-31 09:25:00+00:00 2016-12-31 10:15:00+00:00   \n",
       "14     136843 2016-12-04 09:30:00+00:00 2016-12-04 10:20:00+00:00   \n",
       "15     136767 2017-01-23 09:27:00+00:00 2017-01-23 10:18:00+00:00   \n",
       "16     136800 2016-12-09 09:27:00+00:00 2016-12-09 10:18:00+00:00   \n",
       "17     136771 2016-12-17 09:26:00+00:00 2016-12-17 10:15:00+00:00   \n",
       "\n",
       "   arrival_airport  trevel_time                model  count_of_seats  \\\n",
       "0              EGO         98.0  Sukhoi Superjet-100              97   \n",
       "1              EGO        100.0  Sukhoi Superjet-100              97   \n",
       "2              EGO        100.0  Sukhoi Superjet-100              97   \n",
       "3              EGO         98.0  Sukhoi Superjet-100              97   \n",
       "4              EGO        100.0  Sukhoi Superjet-100              97   \n",
       "5              EGO         98.0  Sukhoi Superjet-100              97   \n",
       "6              EGO        102.0  Sukhoi Superjet-100              97   \n",
       "7              EGO        100.0  Sukhoi Superjet-100              97   \n",
       "8              EGO        102.0  Sukhoi Superjet-100              97   \n",
       "9              EGO        100.0  Sukhoi Superjet-100              97   \n",
       "10             EGO        100.0  Sukhoi Superjet-100              97   \n",
       "11             EGO        100.0  Sukhoi Superjet-100              97   \n",
       "12             EGO        100.0  Sukhoi Superjet-100              97   \n",
       "13             EGO        100.0  Sukhoi Superjet-100              97   \n",
       "14             EGO        100.0  Sukhoi Superjet-100              97   \n",
       "15             EGO        102.0  Sukhoi Superjet-100              97   \n",
       "16             EGO        102.0  Sukhoi Superjet-100              97   \n",
       "17             EGO         98.0  Sukhoi Superjet-100              97   \n",
       "\n",
       "    count_bc  revenue_bc  count_ec  revenue_ec  total_amount  \\\n",
       "0       10.0    189000.0      54.0    342000.0      531000.0   \n",
       "1        8.0    151200.0      60.0    379800.0      531000.0   \n",
       "2        6.0    113400.0      73.0    461700.0      575100.0   \n",
       "3        8.0    151200.0      70.0    444000.0      595200.0   \n",
       "4       10.0    189000.0      66.0    418800.0      607800.0   \n",
       "5        9.0    170100.0      70.0    443400.0      613500.0   \n",
       "6       10.0    189000.0      68.0    431400.0      620400.0   \n",
       "7        9.0    170100.0      72.0    456000.0      626100.0   \n",
       "8        9.0    170100.0      73.0    462900.0      633000.0   \n",
       "9       10.0    189000.0      70.0    442200.0      631200.0   \n",
       "10      10.0    189000.0      69.0    437100.0      626100.0   \n",
       "11       9.0    170100.0      73.0    462300.0      632400.0   \n",
       "12      10.0    189000.0      71.0    450300.0      639300.0   \n",
       "13       9.0    170100.0      73.0    461700.0      631800.0   \n",
       "14      11.0    207900.0      67.0    424500.0      632400.0   \n",
       "15      10.0    189000.0      73.0    462300.0      651300.0   \n",
       "16      10.0    189000.0      72.0    456000.0      645000.0   \n",
       "17      11.0    207900.0      71.0    449100.0      657000.0   \n",
       "\n",
       "    unprofitable_place  avg_fuel_consumption  real_fuel_consumption  month  \\\n",
       "0                 33.0                  1864                 3045.0      1   \n",
       "1                 29.0                  1864                 3107.0      2   \n",
       "2                 18.0                  1864                 3107.0      2   \n",
       "3                 19.0                  1864                 3045.0      1   \n",
       "4                 21.0                  1864                 3107.0      2   \n",
       "5                 18.0                  1864                 3045.0      2   \n",
       "6                 19.0                  1864                 3169.0      2   \n",
       "7                 16.0                  1864                 3107.0      1   \n",
       "8                 15.0                  1864                 3169.0      1   \n",
       "9                 17.0                  1864                 3107.0      1   \n",
       "10                18.0                  1864                 3107.0      2   \n",
       "11                15.0                  1864                 3107.0      1   \n",
       "12                16.0                  1864                 3107.0      1   \n",
       "13                15.0                  1864                 3107.0     12   \n",
       "14                19.0                  1864                 3107.0     12   \n",
       "15                14.0                  1864                 3169.0      1   \n",
       "16                15.0                  1864                 3169.0     12   \n",
       "17                15.0                  1864                 3045.0     12   \n",
       "\n",
       "    day_of_week  fuel_coast  final_fuel_costs  profitability  \n",
       "0             0       41435        126169.575     404830.425  \n",
       "1             3       39553        122891.171     408108.829  \n",
       "2             1       39553        122891.171     452208.829  \n",
       "3             4       41435        126169.575     469030.425  \n",
       "4             5       39553        122891.171     484908.829  \n",
       "5             4       39553        120438.885     493061.115  \n",
       "6             6       39553        125343.457     495056.543  \n",
       "7             1       41435        128738.545     497361.455  \n",
       "8             3       41435        131307.515     501692.485  \n",
       "9             5       41435        128738.545     502461.455  \n",
       "10            1       39553        122891.171     503208.829  \n",
       "11            0       41435        128738.545     503661.455  \n",
       "12            6       41435        128738.545     510561.455  \n",
       "13            5       38867        120759.769     511040.231  \n",
       "14            6       38867        120759.769     511640.231  \n",
       "15            0       41435        131307.515     519992.485  \n",
       "16            4       38867        123169.523     521830.477  \n",
       "17            5       38867        118350.015     538649.985  "
      ]
     },
     "execution_count": 22,
     "metadata": {},
     "output_type": "execute_result"
    }
   ],
   "source": [
    "sorted_avia.iloc[:18]"
   ]
  },
  {
   "cell_type": "markdown",
   "metadata": {},
   "source": [
    "Из DataSet sorted_avia видно, что обсалютно все убыточные рейсы летают в аэропорт \"EGO\" г. Белгород, на модели самолета типа: Sukhoi Superjet-100. Месяц внутри сезона, напрямую на прибыльность не влияет, так как малоубыточные рейсы есть во всех 3-х месяцах. "
   ]
  },
  {
   "cell_type": "code",
   "execution_count": 14,
   "metadata": {},
   "outputs": [
    {
     "data": {
      "text/plain": [
       "12    62\n",
       "1     62\n",
       "2     56\n",
       "Name: month, dtype: int64"
      ]
     },
     "execution_count": 14,
     "metadata": {},
     "output_type": "execute_result"
    }
   ],
   "source": [
    "sorted_avia['month'].value_counts()"
   ]
  },
  {
   "cell_type": "markdown",
   "metadata": {},
   "source": [
    "Сравнивая параметры моделей самолета, можно заметить, что модель типа Boeing 737-300 имеет больше мест в целом, как и больше мест бизнес-класса. Из этого можно сделать вывод: \"Чем больше в солете мест в целом, а также мест бизнес класса, тем прибыльнее рейс\""
   ]
  },
  {
   "cell_type": "code",
   "execution_count": 15,
   "metadata": {},
   "outputs": [
    {
     "data": {
      "image/png": "[encoded data removed]",
      "text/plain": [
       "<Figure size 864x432 with 1 Axes>"
      ]
     },
     "metadata": {},
     "output_type": "display_data"
    }
   ],
   "source": [
    "from sklearn.linear_model import LinearRegression\n",
    "\n",
    "plt.figure(figsize=(12, 6)) \n",
    "\n",
    "for model, color in zip(avia.model, ['red', 'blue']):\n",
    "    temp_df = avia.loc[avia['model'] == model]\n",
    "    lr = LinearRegression()\n",
    "    lr.fit(temp_df['count_bc'].values.reshape(-1, 1), temp_df['profitability'])\n",
    "    plt.scatter(temp_df['count_bc'], temp_df['profitability'], c=color, label=model)\n",
    "    plt.plot(temp_df['count_bc'], lr.predict(temp_df['count_bc'].values.reshape(-1, 1)), c=color)\n",
    "\n",
    "   \n",
    "plt.title('Прибыльность рейсов в зависимости от\\nколичества мест бизнес-класса')\n",
    "plt.xlabel('Места в бизнес-классе')\n",
    "plt.ylabel('Прибыльность, млн.')\n",
    "plt.legend()\n",
    "plt.tight_layout()\n",
    "plt.savefig('test.png')\n",
    "plt.show()"
   ]
  },
  {
   "cell_type": "markdown",
   "metadata": {},
   "source": [
    "Также стоит проверить общее количество перевезенных пассажиров в разрезе аэропорта назначения."
   ]
  },
  {
   "cell_type": "code",
   "execution_count": 53,
   "metadata": {},
   "outputs": [
    {
     "data": {
      "image/png": "[encoded data removed]",
      "text/plain": [
       "<Figure size 432x288 with 1 Axes>"
      ]
     },
     "metadata": {},
     "output_type": "display_data"
    }
   ],
   "source": [
    "avia['profit_per_seat'] = avia['profitability'] / avia['count_of_seats']\n",
    "avia['real_seats'] = avia['count_bc'] + avia['count_ec'] # общее количество проданных мест в самолете\n",
    "g = avia.groupby('arrival_airport')['real_seats'].sum() # соотношение количестве перевезенных граждан от аэропорта назначения\n",
    "plt.barh(g.index, g.values, )\n",
    "\n",
    "plt.savefig('pic_1.png')\n",
    "plt.show()"
   ]
  },
  {
   "cell_type": "code",
   "execution_count": 56,
   "metadata": {},
   "outputs": [
    {
     "data": {
      "image/png": "[encoded data removed]",
      "text/plain": [
       "<Figure size 432x288 with 1 Axes>"
      ]
     },
     "metadata": {},
     "output_type": "display_data"
    }
   ],
   "source": [
    "w = avia.groupby('model')['real_seats'].sum()\n",
    "plt.barh(w.index, w.values, )\n",
    "\n",
    "plt.savefig('pic_1.png',  bbox_inches = 'tight')\n",
    "plt.show()"
   ]
  },
  {
   "cell_type": "markdown",
   "metadata": {},
   "source": [
    "Для полной наглядности стоит проанализировать количество преобретенных билетов эконом-класса, бизнес-класса и не приобретенных билетов."
   ]
  },
  {
   "cell_type": "code",
   "execution_count": 17,
   "metadata": {},
   "outputs": [],
   "source": [
    "avia_month = avia.groupby(['month']).sum().reset_index()"
   ]
  },
  {
   "cell_type": "code",
   "execution_count": 18,
   "metadata": {},
   "outputs": [
    {
     "data": {
      "text/html": [
       "<div>\n",
       "<style scoped>\n",
       "    .dataframe tbody tr th:only-of-type {\n",
       "        vertical-align: middle;\n",
       "    }\n",
       "\n",
       "    .dataframe tbody tr th {\n",
       "        vertical-align: top;\n",
       "    }\n",
       "\n",
       "    .dataframe thead th {\n",
       "        text-align: right;\n",
       "    }\n",
       "</style>\n",
       "<table border=\"1\" class=\"dataframe\">\n",
       "  <thead>\n",
       "    <tr style=\"text-align: right;\">\n",
       "      <th></th>\n",
       "      <th>month</th>\n",
       "      <th>flight_id</th>\n",
       "      <th>trevel_time</th>\n",
       "      <th>count_of_seats</th>\n",
       "      <th>count_bc</th>\n",
       "      <th>revenue_bc</th>\n",
       "      <th>count_ec</th>\n",
       "      <th>revenue_ec</th>\n",
       "      <th>total_amount</th>\n",
       "      <th>unprofitable_place</th>\n",
       "      <th>avg_fuel_consumption</th>\n",
       "      <th>real_fuel_consumption</th>\n",
       "      <th>fuel_coast</th>\n",
       "      <th>final_fuel_costs</th>\n",
       "      <th>profitability</th>\n",
       "      <th>profit_per_seat</th>\n",
       "      <th>real_seats</th>\n",
       "    </tr>\n",
       "  </thead>\n",
       "  <tbody>\n",
       "    <tr>\n",
       "      <th>0</th>\n",
       "      <td>12</td>\n",
       "      <td>8466397</td>\n",
       "      <td>7446.0</td>\n",
       "      <td>7037</td>\n",
       "      <td>672.0</td>\n",
       "      <td>18488700.0</td>\n",
       "      <td>5684.0</td>\n",
       "      <td>55020100.0</td>\n",
       "      <td>73508800.0</td>\n",
       "      <td>681.0</td>\n",
       "      <td>149544</td>\n",
       "      <td>310868.0</td>\n",
       "      <td>2409754</td>\n",
       "      <td>1.208251e+07</td>\n",
       "      <td>6.142629e+07</td>\n",
       "      <td>520835.155266</td>\n",
       "      <td>6356.0</td>\n",
       "    </tr>\n",
       "    <tr>\n",
       "      <th>1</th>\n",
       "      <td>1</td>\n",
       "      <td>8464699</td>\n",
       "      <td>7428.0</td>\n",
       "      <td>7037</td>\n",
       "      <td>673.0</td>\n",
       "      <td>18525300.0</td>\n",
       "      <td>5657.0</td>\n",
       "      <td>54816400.0</td>\n",
       "      <td>73341700.0</td>\n",
       "      <td>707.0</td>\n",
       "      <td>149544</td>\n",
       "      <td>309724.0</td>\n",
       "      <td>2568970</td>\n",
       "      <td>1.283341e+07</td>\n",
       "      <td>6.050829e+07</td>\n",
       "      <td>512733.083922</td>\n",
       "      <td>6330.0</td>\n",
       "    </tr>\n",
       "    <tr>\n",
       "      <th>2</th>\n",
       "      <td>2</td>\n",
       "      <td>7646247</td>\n",
       "      <td>6722.0</td>\n",
       "      <td>6356</td>\n",
       "      <td>600.0</td>\n",
       "      <td>16508400.0</td>\n",
       "      <td>5065.0</td>\n",
       "      <td>48977600.0</td>\n",
       "      <td>65486000.0</td>\n",
       "      <td>691.0</td>\n",
       "      <td>135072</td>\n",
       "      <td>280411.0</td>\n",
       "      <td>2214968</td>\n",
       "      <td>1.109110e+07</td>\n",
       "      <td>5.439490e+07</td>\n",
       "      <td>461347.832488</td>\n",
       "      <td>5665.0</td>\n",
       "    </tr>\n",
       "  </tbody>\n",
       "</table>\n",
       "</div>"
      ],
      "text/plain": [
       "   month  flight_id  trevel_time  count_of_seats  count_bc  revenue_bc  \\\n",
       "0     12    8466397       7446.0            7037     672.0  18488700.0   \n",
       "1      1    8464699       7428.0            7037     673.0  18525300.0   \n",
       "2      2    7646247       6722.0            6356     600.0  16508400.0   \n",
       "\n",
       "   count_ec  revenue_ec  total_amount  unprofitable_place  \\\n",
       "0    5684.0  55020100.0    73508800.0               681.0   \n",
       "1    5657.0  54816400.0    73341700.0               707.0   \n",
       "2    5065.0  48977600.0    65486000.0               691.0   \n",
       "\n",
       "   avg_fuel_consumption  real_fuel_consumption  fuel_coast  final_fuel_costs  \\\n",
       "0                149544               310868.0     2409754      1.208251e+07   \n",
       "1                149544               309724.0     2568970      1.283341e+07   \n",
       "2                135072               280411.0     2214968      1.109110e+07   \n",
       "\n",
       "   profitability  profit_per_seat  real_seats  \n",
       "0   6.142629e+07    520835.155266      6356.0  \n",
       "1   6.050829e+07    512733.083922      6330.0  \n",
       "2   5.439490e+07    461347.832488      5665.0  "
      ]
     },
     "execution_count": 18,
     "metadata": {},
     "output_type": "execute_result"
    }
   ],
   "source": [
    "avia_month_sort = avia_month.sort_values(by = 'total_amount', ascending=False, ignore_index=True)\n",
    "avia_month_sort"
   ]
  },
  {
   "cell_type": "markdown",
   "metadata": {},
   "source": [
    "Группируем полученные данные"
   ]
  },
  {
   "cell_type": "code",
   "execution_count": 19,
   "metadata": {},
   "outputs": [
    {
     "name": "stderr",
     "output_type": "stream",
     "text": [
      "<ipython-input-19-0c5c8d476cfc>:2: SettingWithCopyWarning: \n",
      "A value is trying to be set on a copy of a slice from a DataFrame.\n",
      "Try using .loc[row_indexer,col_indexer] = value instead\n",
      "\n",
      "See the caveats in the documentation: https://pandas.pydata.org/pandas-docs/stable/user_guide/indexing.html#returning-a-view-versus-a-copy\n",
      "  avia_month_sort1['month'] = avia_month_sort1['month'].apply(lambda x:{12:'декабрь 2016', 1:'январь 2017', 2:'февраль 2017'}[x])\n"
     ]
    },
    {
     "data": {
      "text/html": [
       "<div>\n",
       "<style scoped>\n",
       "    .dataframe tbody tr th:only-of-type {\n",
       "        vertical-align: middle;\n",
       "    }\n",
       "\n",
       "    .dataframe tbody tr th {\n",
       "        vertical-align: top;\n",
       "    }\n",
       "\n",
       "    .dataframe thead th {\n",
       "        text-align: right;\n",
       "    }\n",
       "</style>\n",
       "<table border=\"1\" class=\"dataframe\">\n",
       "  <thead>\n",
       "    <tr style=\"text-align: right;\">\n",
       "      <th></th>\n",
       "      <th>month</th>\n",
       "      <th>count_bc</th>\n",
       "      <th>count_ec</th>\n",
       "      <th>unprofitable_place</th>\n",
       "    </tr>\n",
       "  </thead>\n",
       "  <tbody>\n",
       "    <tr>\n",
       "      <th>0</th>\n",
       "      <td>декабрь 2016</td>\n",
       "      <td>672.0</td>\n",
       "      <td>5684.0</td>\n",
       "      <td>681.0</td>\n",
       "    </tr>\n",
       "    <tr>\n",
       "      <th>1</th>\n",
       "      <td>январь 2017</td>\n",
       "      <td>673.0</td>\n",
       "      <td>5657.0</td>\n",
       "      <td>707.0</td>\n",
       "    </tr>\n",
       "    <tr>\n",
       "      <th>2</th>\n",
       "      <td>февраль 2017</td>\n",
       "      <td>600.0</td>\n",
       "      <td>5065.0</td>\n",
       "      <td>691.0</td>\n",
       "    </tr>\n",
       "  </tbody>\n",
       "</table>\n",
       "</div>"
      ],
      "text/plain": [
       "          month  count_bc  count_ec  unprofitable_place\n",
       "0  декабрь 2016     672.0    5684.0               681.0\n",
       "1   январь 2017     673.0    5657.0               707.0\n",
       "2  февраль 2017     600.0    5065.0               691.0"
      ]
     },
     "execution_count": 19,
     "metadata": {},
     "output_type": "execute_result"
    }
   ],
   "source": [
    "avia_month_sort1 = avia_month_sort[['month','count_bc','count_ec','unprofitable_place']]\n",
    "avia_month_sort1['month'] = avia_month_sort1['month'].apply(lambda x:{12:'декабрь 2016', 1:'январь 2017', 2:'февраль 2017'}[x])\n",
    "avia_month_sort1"
   ]
  },
  {
   "cell_type": "code",
   "execution_count": 31,
   "metadata": {},
   "outputs": [
    {
     "data": {
      "image/png": "[encoded data removed]",
      "text/plain": [
       "<Figure size 432x288 with 1 Axes>"
      ]
     },
     "metadata": {},
     "output_type": "display_data"
    }
   ],
   "source": [
    "fig = plt.figure()\n",
    "axes = fig.add_axes([0,0,1,1])\n",
    "\n",
    "axes.bar(x = avia_month_sort1['month'], \n",
    "         height = avia_month_sort1['count_ec'], \n",
    "         width = -0.3, \n",
    "         align = 'edge',\n",
    "         label = 'продано билетов эконом-класса')\n",
    "axes.bar(x = avia_month_sort1['month'], \n",
    "         height = avia_month_sort1['unprofitable_place'], \n",
    "         width = 0.3,\n",
    "         label = 'продано билетов бизнес класса-класса')\n",
    "axes.bar(x = avia_month_sort1['month'], \n",
    "         height = avia_month_sort1['count_bc'], \n",
    "         width = 0.3 , \n",
    "         align = 'edge',\n",
    "         label = 'не проданных билетов')\n",
    "axes.legend(loc = 10)\n",
    "axes.set_ylabel('колличество билетов')\n",
    "plt.savefig('pic_1.png', bbox_inches = 'tight')\n"
   ]
  },
  {
   "cell_type": "markdown",
   "metadata": {},
   "source": [
    "# Вывод"
   ]
  },
  {
   "cell_type": "markdown",
   "metadata": {},
   "source": [
    "1. Топ 10 самых убыточных рейсов из Анапы составили рейсы на самолетах модели Sukhoi Superjet-100 в аэропорт г. Белгорода “EGO” на всем временном интервале с декабря по февраль. Оценить прибыльность авиарейсов в г. Новокузнецк “NOZ” не представляется возможным, ввиду отсутствия данных о стоимости билетов и их количества.\n",
    "2. Выявлена зависимость: увеличение размера прибыли с увеличением количества перевезенных пассажиров.\n",
    "3. Выявлена зависимость: увеличение размера прибыли с кувеличением количества приобретенных билетов бизнес-класса"
   ]
  }
 ],
 "metadata": {
  "kernelspec": {
   "display_name": "Python 3",
   "language": "python",
   "name": "python3"
  },
  "language_info": {
   "codemirror_mode": {
    "name": "ipython",
    "version": 3
   },
   "file_extension": ".py",
   "mimetype": "text/x-python",
   "name": "python",
   "nbconvert_exporter": "python",
   "pygments_lexer": "ipython3",
   "version": "3.8.5"
  }
 },
 "nbformat": 4,
 "nbformat_minor": 4
}
